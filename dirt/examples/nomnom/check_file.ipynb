{
 "cells": [
  {
   "cell_type": "code",
   "execution_count": 2,
   "id": "1d40f0b8",
   "metadata": {},
   "outputs": [
    {
     "name": "stdout",
     "output_type": "stream",
     "text": [
      "Number of leaves: 8\n"
     ]
    }
   ],
   "source": [
    "from mechagogue.serial import unpack_leaf_data\n",
    "\n",
    "with open(\"/Users/wangchengrui11/Desktop/SUPER/MARL_Scaled/test_2/report_eval_epoch0000_agent012_trial03_step00.state\", \"rb\") as f:\n",
    "    leaves = unpack_leaf_data(f.read())\n",
    "\n",
    "print(f\"Number of leaves: {len(leaves)}\")"
   ]
  },
  {
   "cell_type": "code",
   "execution_count": 4,
   "id": "19ab1233",
   "metadata": {},
   "outputs": [
    {
     "name": "stdout",
     "output_type": "stream",
     "text": [
      "PyTreeDef([CustomNode(NomNomReport[None], [CustomNode(NomNomAction[None], [*, *, *]), *, *, *, *, *]), CustomNode(NomNomReport[None], [CustomNode(NomNomAction[None], [*, *, *]), *, *, *, *, *]), CustomNode(NomNomReport[None], [CustomNode(NomNomAction[None], [*, *, *]), *, *, *, *, *]), CustomNode(NomNomReport[None], [CustomNode(NomNomAction[None], [*, *, *]), *, *, *, *, *]), CustomNode(NomNomReport[None], [CustomNode(NomNomAction[None], [*, *, *]), *, *, *, *, *])])\n"
     ]
    }
   ],
   "source": [
    "from dirt.examples.nomnom.train_nomnom import NomNomTrainParams, NomNomReport, NomNomAction\n",
    "import jax.numpy as jnp\n",
    "import jax\n",
    "import jax.tree_util as tu\n",
    "\n",
    "example_report = [\n",
    "    NomNomReport(\n",
    "        actions=NomNomAction(\n",
    "            forward=jnp.array([0]),\n",
    "            rotate=jnp.array([0]),\n",
    "            reproduce=jnp.array([0]),\n",
    "        ),\n",
    "        players=jnp.array([True]),\n",
    "        player_x=jnp.zeros((1, 2), dtype=jnp.int32),\n",
    "        player_r=jnp.zeros((1,), dtype=jnp.int32),\n",
    "        player_energy=jnp.zeros((1,), dtype=jnp.float32),\n",
    "        food_grid=jnp.zeros((5, 5), dtype=bool),\n",
    "    )\n",
    "    for _ in range(5)  # or any number ≥ 1 to match the .state file\n",
    "]\n",
    "\n",
    "print(jax.tree.structure(example_report))"
   ]
  },
  {
   "cell_type": "code",
   "execution_count": null,
   "id": "22d2be91",
   "metadata": {},
   "outputs": [],
   "source": [
    "from dirt.examples.nomnom.train_nomnom import NomNomReport\n",
    "from dirt.envs.nomnom import NomNomAction\n",
    "import jax.numpy as jnp\n",
    "\n",
    "example_report = NomNomReport(\n",
    "    actions=NomNomAction(\n",
    "        forward=jnp.array([0]),\n",
    "        rotate=jnp.array([0]),\n",
    "        reproduce=jnp.array([0]),\n",
    "    ),\n",
    "    players=jnp.array([True]),\n",
    "    player_x=jnp.zeros((1, 2), dtype=jnp.int32),\n",
    "    player_r=jnp.zeros((1,), dtype=jnp.int32),\n",
    "    player_energy=jnp.zeros((1,), dtype=jnp.float32),\n",
    "    food_grid=jnp.zeros((5, 5), dtype=bool),\n",
    ")\n"
   ]
  },
  {
   "cell_type": "code",
   "execution_count": 13,
   "id": "df57b19e",
   "metadata": {},
   "outputs": [
    {
     "name": "stdout",
     "output_type": "stream",
     "text": [
      "Leaf 0: shape=(1,), dtype=int32\n",
      "Leaf 1: shape=(1,), dtype=int32\n",
      "Leaf 2: shape=(1,), dtype=int32\n",
      "Leaf 3: shape=(1,), dtype=bool\n",
      "Leaf 4: shape=(1, 2), dtype=int32\n",
      "Leaf 5: shape=(1,), dtype=int32\n",
      "Leaf 6: shape=(1,), dtype=float32\n",
      "Leaf 7: shape=(5, 5), dtype=bool\n",
      "Leaf 8: shape=(1,), dtype=int32\n",
      "Leaf 9: shape=(1,), dtype=int32\n",
      "Leaf 10: shape=(1,), dtype=int32\n",
      "Leaf 11: shape=(1,), dtype=bool\n",
      "Leaf 12: shape=(1, 2), dtype=int32\n",
      "Leaf 13: shape=(1,), dtype=int32\n",
      "Leaf 14: shape=(1,), dtype=float32\n",
      "Leaf 15: shape=(5, 5), dtype=bool\n",
      "Leaf 16: shape=(1,), dtype=int32\n",
      "Leaf 17: shape=(1,), dtype=int32\n",
      "Leaf 18: shape=(1,), dtype=int32\n",
      "Leaf 19: shape=(1,), dtype=bool\n",
      "Leaf 20: shape=(1, 2), dtype=int32\n",
      "Leaf 21: shape=(1,), dtype=int32\n",
      "Leaf 22: shape=(1,), dtype=float32\n",
      "Leaf 23: shape=(5, 5), dtype=bool\n",
      "Leaf 24: shape=(1,), dtype=int32\n",
      "Leaf 25: shape=(1,), dtype=int32\n",
      "Leaf 26: shape=(1,), dtype=int32\n",
      "Leaf 27: shape=(1,), dtype=bool\n",
      "Leaf 28: shape=(1, 2), dtype=int32\n",
      "Leaf 29: shape=(1,), dtype=int32\n",
      "Leaf 30: shape=(1,), dtype=float32\n",
      "Leaf 31: shape=(5, 5), dtype=bool\n",
      "Leaf 32: shape=(1,), dtype=int32\n",
      "Leaf 33: shape=(1,), dtype=int32\n",
      "Leaf 34: shape=(1,), dtype=int32\n",
      "Leaf 35: shape=(1,), dtype=bool\n",
      "Leaf 36: shape=(1, 2), dtype=int32\n",
      "Leaf 37: shape=(1,), dtype=int32\n",
      "Leaf 38: shape=(1,), dtype=float32\n",
      "Leaf 39: shape=(5, 5), dtype=bool\n"
     ]
    }
   ],
   "source": [
    "from mechagogue.serial import load_example_data\n",
    "from dirt.examples.nomnom.train_nomnom import NomNomReport\n",
    "from dirt.envs.nomnom import NomNomAction\n",
    "import jax.numpy as jnp\n",
    "\n",
    "example_report = [NomNomReport(\n",
    "    actions=NomNomAction(\n",
    "        forward=jnp.array([0]),\n",
    "        rotate=jnp.array([0]),\n",
    "        reproduce=jnp.array([0]),\n",
    "        ),\n",
    "    players=jnp.array([True]),\n",
    "    player_x=jnp.zeros((1, 2), dtype=jnp.int32),\n",
    "    player_r=jnp.zeros((1,), dtype=jnp.int32),\n",
    "    player_energy=jnp.zeros((1,), dtype=jnp.float32),\n",
    "    food_grid=jnp.zeros((5, 5), dtype=bool),\n",
    "    )\n",
    "    for _ in range(5)\n",
    "]\n",
    "\n",
    "report = load_example_data(example_report, \"/Users/wangchengrui11/Desktop/SUPER/MARL_Scaled/test_1/report_eval_epoch0000_agent010_trial02.state\")\n",
    "\n",
    "for i, leaf in enumerate(jax.tree.leaves(report)):\n",
    "    print(f\"Leaf {i}: shape={leaf.shape}, dtype={leaf.dtype}\")\n"
   ]
  },
  {
   "cell_type": "code",
   "execution_count": 15,
   "id": "55550a0e",
   "metadata": {},
   "outputs": [
    {
     "name": "stdout",
     "output_type": "stream",
     "text": [
      "Player positions: [[[0 2]]\n",
      "\n",
      " [[0 2]]\n",
      "\n",
      " [[0 2]]\n",
      "\n",
      " [[0 2]]\n",
      "\n",
      " [[0 2]]]\n"
     ]
    }
   ],
   "source": [
    "from mechagogue.serial import load_example_data\n",
    "from dirt.examples.nomnom.train_nomnom import NomNomReport\n",
    "from dirt.envs.nomnom import NomNomAction\n",
    "import jax.numpy as jnp\n",
    "\n",
    "example_report = [NomNomReport(\n",
    "    actions=NomNomAction(forward=jnp.array([0]), rotate=jnp.array([0]), reproduce=jnp.array([0])),\n",
    "    players=jnp.array([True]),\n",
    "    player_x=jnp.zeros((1, 2), dtype=jnp.int32),\n",
    "    player_r=jnp.zeros((1,), dtype=jnp.int32),\n",
    "    player_energy=jnp.zeros((1,), dtype=jnp.float32),\n",
    "    food_grid=jnp.zeros((5, 5), dtype=bool),\n",
    ")]\n",
    "\n",
    "report_batch = load_example_data(example_report, \"/Users/wangchengrui11/Desktop/SUPER/MARL_Scaled/test_2/report_eval_epoch0000_agent004_trial03.state\")\n",
    "report = report_batch[0]  # first step\n",
    "\n",
    "print(\"Player positions:\", report.player_x)\n"
   ]
  },
  {
   "cell_type": "code",
   "execution_count": null,
   "id": "00f246bb",
   "metadata": {},
   "outputs": [],
   "source": []
  }
 ],
 "metadata": {
  "kernelspec": {
   "display_name": "god",
   "language": "python",
   "name": "python3"
  },
  "language_info": {
   "codemirror_mode": {
    "name": "ipython",
    "version": 3
   },
   "file_extension": ".py",
   "mimetype": "text/x-python",
   "name": "python",
   "nbconvert_exporter": "python",
   "pygments_lexer": "ipython3",
   "version": "3.13.0"
  }
 },
 "nbformat": 4,
 "nbformat_minor": 5
}
